{
 "cells": [
  {
   "cell_type": "code",
   "execution_count": 1,
   "id": "4c2d1b89",
   "metadata": {},
   "outputs": [],
   "source": [
    "students=['abc']"
   ]
  },
  {
   "cell_type": "code",
   "execution_count": 2,
   "id": "6c77cf73",
   "metadata": {},
   "outputs": [],
   "source": [
    "students.append('def')"
   ]
  },
  {
   "cell_type": "code",
   "execution_count": 3,
   "id": "4640daad",
   "metadata": {},
   "outputs": [
    {
     "name": "stdout",
     "output_type": "stream",
     "text": [
      "['abc', 'def']\n"
     ]
    }
   ],
   "source": [
    "print(students)"
   ]
  },
  {
   "cell_type": "code",
   "execution_count": 6,
   "id": "8442c3bb",
   "metadata": {},
   "outputs": [],
   "source": [
    "students.insert(1,'123')"
   ]
  },
  {
   "cell_type": "code",
   "execution_count": 7,
   "id": "73a13212",
   "metadata": {},
   "outputs": [
    {
     "name": "stdout",
     "output_type": "stream",
     "text": [
      "['abc', '123', 'def']\n"
     ]
    }
   ],
   "source": [
    "print(students)"
   ]
  },
  {
   "cell_type": "code",
   "execution_count": 8,
   "id": "9454925f",
   "metadata": {},
   "outputs": [],
   "source": [
    "students.append(\"ghi\")"
   ]
  },
  {
   "cell_type": "code",
   "execution_count": 9,
   "id": "983275e2",
   "metadata": {},
   "outputs": [
    {
     "name": "stdout",
     "output_type": "stream",
     "text": [
      "['abc', '123', 'def', 'ghi']\n"
     ]
    }
   ],
   "source": [
    "print(students)"
   ]
  },
  {
   "cell_type": "code",
   "execution_count": 10,
   "id": "d036be44",
   "metadata": {},
   "outputs": [],
   "source": [
    "#General syntax of Slicing ==> startvalue:StopValue:stepcount->Indexing"
   ]
  },
  {
   "cell_type": "code",
   "execution_count": 11,
   "id": "4d8684f4",
   "metadata": {},
   "outputs": [],
   "source": [
    "#Note 1: Stopvalue or last value is exclusive, i.e included inpart of the slice"
   ]
  },
  {
   "cell_type": "code",
   "execution_count": 12,
   "id": "0aa2ba1b",
   "metadata": {},
   "outputs": [],
   "source": [
    "#Note2: Increase the index value by 1 to include the last value or stop value"
   ]
  },
  {
   "cell_type": "code",
   "execution_count": 13,
   "id": "5d0bf03a",
   "metadata": {},
   "outputs": [],
   "source": [
    "#req: i want to print  abc , def in same slice"
   ]
  },
  {
   "cell_type": "code",
   "execution_count": 17,
   "id": "859ef6bc",
   "metadata": {},
   "outputs": [
    {
     "name": "stdout",
     "output_type": "stream",
     "text": [
      "['abc', 'def']\n"
     ]
    }
   ],
   "source": [
    "print(students[0:3:2])#(startvalue:Stopvalue:stepcount-> helps to exculde the 123 in below example o/p)"
   ]
  },
  {
   "cell_type": "code",
   "execution_count": null,
   "id": "a1ef365c",
   "metadata": {},
   "outputs": [],
   "source": []
  }
 ],
 "metadata": {
  "kernelspec": {
   "display_name": "Python 3",
   "language": "python",
   "name": "python3"
  },
  "language_info": {
   "codemirror_mode": {
    "name": "ipython",
    "version": 3
   },
   "file_extension": ".py",
   "mimetype": "text/x-python",
   "name": "python",
   "nbconvert_exporter": "python",
   "pygments_lexer": "ipython3",
   "version": "3.8.8"
  }
 },
 "nbformat": 4,
 "nbformat_minor": 5
}

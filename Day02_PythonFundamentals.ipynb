{
 "cells": [
  {
   "cell_type": "code",
   "execution_count": null,
   "id": "4056fa8d",
   "metadata": {},
   "outputs": [],
   "source": [
    "Variables : Which holds data."
   ]
  },
  {
   "cell_type": "code",
   "execution_count": null,
   "id": "8a98c6b9",
   "metadata": {},
   "outputs": [],
   "source": [
    "There are 3 Rules must be followed while declaring the Variables :\n",
    "    1. No Namespaces while declaring the Variables. ex: first name='abc'\n",
    "    2. A Variable should not start with a number. ex: 1firtsname='abc'\n",
    "    3. A variable should not contain any special Characters(@,#,$,%,!,^,&,*,(,),_,+,=) ex: @firstname='abc'"
   ]
  },
  {
   "cell_type": "code",
   "execution_count": null,
   "id": "ecd0ecf5",
   "metadata": {},
   "outputs": [],
   "source": []
  },
  {
   "cell_type": "code",
   "execution_count": null,
   "id": "52eed7d1",
   "metadata": {},
   "outputs": [],
   "source": [
    "Datatypes:\n",
    "        1. String->str\n",
    "        2. Numbers-> integer (int) and float (decimal)\n",
    "        3. List -> list\n",
    "        4. Tuple -> tuple\n",
    "        5. Dictionaries -> dict"
   ]
  },
  {
   "cell_type": "code",
   "execution_count": null,
   "id": "1c5052d8",
   "metadata": {},
   "outputs": [],
   "source": [
    "Classification of Datatypes: \n",
    "    1. Mutable -> able to edit/change\n",
    "    2. Immutable -> not able to change / edit"
   ]
  },
  {
   "cell_type": "code",
   "execution_count": null,
   "id": "6510b5c0",
   "metadata": {},
   "outputs": [],
   "source": [
    "3 Ways to declare a string :\n",
    "     Single quote(''),Double quote(\"\"),Triple quote('\"\"')\n",
    "        ex: 'abc',\"abc\",'\"abc\"'"
   ]
  },
  {
   "cell_type": "code",
   "execution_count": 1,
   "id": "a4f7d1ce",
   "metadata": {},
   "outputs": [],
   "source": [
    "# is used for commenting the lines in Python"
   ]
  },
  {
   "cell_type": "code",
   "execution_count": null,
   "id": "2b4ee493",
   "metadata": {},
   "outputs": [],
   "source": [
    "Introduction to String methods :\n",
    "    methods are buit in program that are readily available to use in python\n",
    "    Type method is used to validate the datatype \n",
    "    NOTE : PYTHON is a case sensitive"
   ]
  },
  {
   "cell_type": "code",
   "execution_count": 2,
   "id": "dc08a72c",
   "metadata": {},
   "outputs": [],
   "source": [
    "#example for Type\n",
    "name='syed feeraz'"
   ]
  },
  {
   "cell_type": "code",
   "execution_count": 7,
   "id": "0c6220e2",
   "metadata": {},
   "outputs": [
    {
     "data": {
      "text/plain": [
       "str"
      ]
     },
     "execution_count": 7,
     "metadata": {},
     "output_type": "execute_result"
    }
   ],
   "source": [
    "type(name)"
   ]
  },
  {
   "cell_type": "code",
   "execution_count": 4,
   "id": "7e61425c",
   "metadata": {},
   "outputs": [],
   "source": [
    "x=1"
   ]
  },
  {
   "cell_type": "code",
   "execution_count": 5,
   "id": "dc8c0d28",
   "metadata": {},
   "outputs": [
    {
     "data": {
      "text/plain": [
       "int"
      ]
     },
     "execution_count": 5,
     "metadata": {},
     "output_type": "execute_result"
    }
   ],
   "source": [
    "type(x)"
   ]
  },
  {
   "cell_type": "code",
   "execution_count": null,
   "id": "cdc7551a",
   "metadata": {},
   "outputs": [],
   "source": []
  }
 ],
 "metadata": {
  "kernelspec": {
   "display_name": "Python 3",
   "language": "python",
   "name": "python3"
  },
  "language_info": {
   "codemirror_mode": {
    "name": "ipython",
    "version": 3
   },
   "file_extension": ".py",
   "mimetype": "text/x-python",
   "name": "python",
   "nbconvert_exporter": "python",
   "pygments_lexer": "ipython3",
   "version": "3.8.8"
  }
 },
 "nbformat": 4,
 "nbformat_minor": 5
}

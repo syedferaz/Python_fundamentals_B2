{
 "cells": [
  {
   "cell_type": "code",
   "execution_count": 1,
   "id": "85f82343",
   "metadata": {},
   "outputs": [],
   "source": [
    "#ontroduction to functions in python"
   ]
  },
  {
   "cell_type": "code",
   "execution_count": 2,
   "id": "fb25d818",
   "metadata": {},
   "outputs": [],
   "source": [
    "#def is the key word for defining a function"
   ]
  },
  {
   "cell_type": "code",
   "execution_count": 3,
   "id": "cc0ccee7",
   "metadata": {},
   "outputs": [],
   "source": [
    "#for giving the functions name we have to use small case letters only\n",
    "#for custom requirements we can write our own functions"
   ]
  },
  {
   "cell_type": "code",
   "execution_count": 4,
   "id": "9604902b",
   "metadata": {},
   "outputs": [],
   "source": [
    "#req: create a greet function"
   ]
  },
  {
   "cell_type": "code",
   "execution_count": 11,
   "id": "1522db49",
   "metadata": {},
   "outputs": [],
   "source": [
    "def greet():#defining / declaring the functions \n",
    "    print(\"Hi, welcome to functions\")\n"
   ]
  },
  {
   "cell_type": "code",
   "execution_count": 8,
   "id": "671ebe1f",
   "metadata": {},
   "outputs": [
    {
     "name": "stdout",
     "output_type": "stream",
     "text": [
      "Hi, welcome to functions\n"
     ]
    }
   ],
   "source": [
    "greet()"
   ]
  },
  {
   "cell_type": "code",
   "execution_count": 12,
   "id": "4f4272a2",
   "metadata": {},
   "outputs": [],
   "source": [
    "#req : create a functon to greet user taht we are passing to the functions.\n",
    "#parameter passing during the function declaration"
   ]
  },
  {
   "cell_type": "code",
   "execution_count": 20,
   "id": "0e1785f2",
   "metadata": {},
   "outputs": [],
   "source": [
    "def greetuser(username):\n",
    "    print(f\"Hi,{username.title()}\")"
   ]
  },
  {
   "cell_type": "code",
   "execution_count": 21,
   "id": "155ff4cc",
   "metadata": {},
   "outputs": [
    {
     "name": "stdout",
     "output_type": "stream",
     "text": [
      "Hi,Syed\n"
     ]
    }
   ],
   "source": [
    "greetuser('syed')"
   ]
  },
  {
   "cell_type": "code",
   "execution_count": 22,
   "id": "ec798566",
   "metadata": {},
   "outputs": [],
   "source": [
    "#Types of Arguments : "
   ]
  },
  {
   "cell_type": "code",
   "execution_count": 23,
   "id": "b36b52a9",
   "metadata": {},
   "outputs": [],
   "source": [
    "# req: create a describe_pet function where in it takes 2 paramenters below: \n",
    "#1.animaltype 2. petname"
   ]
  },
  {
   "cell_type": "code",
   "execution_count": 30,
   "id": "7eb51e7a",
   "metadata": {},
   "outputs": [],
   "source": [
    "def describe_pet(animaltype,petname):\n",
    "    print(f\"I have a {animaltype}\")\n",
    "    print(f\"my{animaltype}'s name is {petname}{animaltype}\")"
   ]
  },
  {
   "cell_type": "code",
   "execution_count": 31,
   "id": "d0061261",
   "metadata": {},
   "outputs": [
    {
     "name": "stdout",
     "output_type": "stream",
     "text": [
      "I have a fish\n",
      "myfish's name is goldfish\n"
     ]
    }
   ],
   "source": [
    "describe_pet('fish','gold')"
   ]
  },
  {
   "cell_type": "code",
   "execution_count": 28,
   "id": "f27629ed",
   "metadata": {},
   "outputs": [],
   "source": [
    "#By defaultfunctions will be having the positional Arguments"
   ]
  },
  {
   "cell_type": "code",
   "execution_count": 33,
   "id": "4a8c727e",
   "metadata": {},
   "outputs": [
    {
     "name": "stdout",
     "output_type": "stream",
     "text": [
      "I have a FISH\n",
      "myFISH's name is SILVERFISH\n"
     ]
    }
   ],
   "source": [
    "describe_pet(petname=\"SILVER\",animaltype=\"FISH\")"
   ]
  },
  {
   "cell_type": "code",
   "execution_count": 34,
   "id": "478f9b91",
   "metadata": {},
   "outputs": [],
   "source": [
    "#keyword arguments"
   ]
  },
  {
   "cell_type": "code",
   "execution_count": 35,
   "id": "5c82ec10",
   "metadata": {},
   "outputs": [
    {
     "ename": "TypeError",
     "evalue": "describe_pet() missing 1 required positional argument: 'petname'",
     "output_type": "error",
     "traceback": [
      "\u001b[1;31m---------------------------------------------------------------------------\u001b[0m",
      "\u001b[1;31mTypeError\u001b[0m                                 Traceback (most recent call last)",
      "\u001b[1;32m<ipython-input-35-cbb07c04f9e8>\u001b[0m in \u001b[0;36m<module>\u001b[1;34m\u001b[0m\n\u001b[1;32m----> 1\u001b[1;33m \u001b[0mdescribe_pet\u001b[0m\u001b[1;33m(\u001b[0m\u001b[1;34m'variant'\u001b[0m\u001b[1;33m)\u001b[0m\u001b[1;33m\u001b[0m\u001b[1;33m\u001b[0m\u001b[0m\n\u001b[0m",
      "\u001b[1;31mTypeError\u001b[0m: describe_pet() missing 1 required positional argument: 'petname'"
     ]
    }
   ],
   "source": [
    "describe_pet('variant')"
   ]
  },
  {
   "cell_type": "code",
   "execution_count": 36,
   "id": "1916bac0",
   "metadata": {},
   "outputs": [],
   "source": [
    "#req :Anoimal type--> Assumed to be Penguin"
   ]
  },
  {
   "cell_type": "code",
   "execution_count": 39,
   "id": "dc19cec6",
   "metadata": {},
   "outputs": [
    {
     "ename": "SyntaxError",
     "evalue": "non-default argument follows default argument (<ipython-input-39-12b9427cf0e2>, line 1)",
     "output_type": "error",
     "traceback": [
      "\u001b[1;36m  File \u001b[1;32m\"<ipython-input-39-12b9427cf0e2>\"\u001b[1;36m, line \u001b[1;32m1\u001b[0m\n\u001b[1;33m    def describe_pet(animaltype='Penguin',petname):\u001b[0m\n\u001b[1;37m                     ^\u001b[0m\n\u001b[1;31mSyntaxError\u001b[0m\u001b[1;31m:\u001b[0m non-default argument follows default argument\n"
     ]
    }
   ],
   "source": [
    "def describe_pet(animaltype='Penguin',petname):\n",
    "    print(f\"I have a {animaltype}\")\n",
    "    print(f\"My {animaltype}'s name is {petname}\")"
   ]
  },
  {
   "cell_type": "code",
   "execution_count": 45,
   "id": "7cff555b",
   "metadata": {},
   "outputs": [],
   "source": [
    "def describe_pet(petname,animaltype='penguin'):\n",
    "    print (f\"i have a {animaltype}\")\n",
    "    print(f\"my{animaltype}'s name\\t is {petname}\")\n",
    "#creating a pet function for describing the animal\n"
   ]
  },
  {
   "cell_type": "code",
   "execution_count": 46,
   "id": "95920970",
   "metadata": {},
   "outputs": [
    {
     "name": "stdout",
     "output_type": "stream",
     "text": [
      "i have a penguin\n",
      "mypenguin's name\t is peng\n"
     ]
    }
   ],
   "source": [
    "describe_pet('peng')"
   ]
  },
  {
   "cell_type": "code",
   "execution_count": 47,
   "id": "17c24ba1",
   "metadata": {},
   "outputs": [
    {
     "name": "stdout",
     "output_type": "stream",
     "text": [
      "i have a rabbit\n",
      "myrabbit's name\t is teenu\n"
     ]
    }
   ],
   "source": [
    "describe_pet('teenu','rabbit')"
   ]
  },
  {
   "cell_type": "code",
   "execution_count": null,
   "id": "5b25f91f",
   "metadata": {},
   "outputs": [],
   "source": [
    "#END of DAY 10 CLASS"
   ]
  }
 ],
 "metadata": {
  "kernelspec": {
   "display_name": "Python 3",
   "language": "python",
   "name": "python3"
  },
  "language_info": {
   "codemirror_mode": {
    "name": "ipython",
    "version": 3
   },
   "file_extension": ".py",
   "mimetype": "text/x-python",
   "name": "python",
   "nbconvert_exporter": "python",
   "pygments_lexer": "ipython3",
   "version": "3.8.8"
  }
 },
 "nbformat": 4,
 "nbformat_minor": 5
}

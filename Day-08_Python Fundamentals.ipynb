{
 "cells": [
  {
   "cell_type": "code",
   "execution_count": null,
   "id": "1605162d",
   "metadata": {},
   "outputs": [],
   "source": []
  },
  {
   "cell_type": "code",
   "execution_count": 2,
   "id": "f468bfc8",
   "metadata": {},
   "outputs": [],
   "source": [
    "#Continuation with Dictionaries.."
   ]
  },
  {
   "cell_type": "code",
   "execution_count": 3,
   "id": "ee1249f2",
   "metadata": {},
   "outputs": [],
   "source": [
    "alien={'color':'green','points':5}"
   ]
  },
  {
   "cell_type": "code",
   "execution_count": 4,
   "id": "cfb6fd68",
   "metadata": {},
   "outputs": [
    {
     "name": "stdout",
     "output_type": "stream",
     "text": [
      "{'color': 'green', 'points': 5}\n"
     ]
    }
   ],
   "source": [
    "print(alien)"
   ]
  },
  {
   "cell_type": "code",
   "execution_count": 5,
   "id": "9cf16abf",
   "metadata": {},
   "outputs": [],
   "source": [
    "#req : Want to know color of an alien"
   ]
  },
  {
   "cell_type": "code",
   "execution_count": 8,
   "id": "57eadb73",
   "metadata": {},
   "outputs": [
    {
     "name": "stdout",
     "output_type": "stream",
     "text": [
      "green\n"
     ]
    }
   ],
   "source": [
    "print(alien['color'])"
   ]
  },
  {
   "cell_type": "code",
   "execution_count": 9,
   "id": "1cf3f020",
   "metadata": {},
   "outputs": [],
   "source": [
    "#How to add new key value pairs to disctionary"
   ]
  },
  {
   "cell_type": "code",
   "execution_count": 10,
   "id": "80764d2e",
   "metadata": {},
   "outputs": [],
   "source": [
    "alien['start_point']=0"
   ]
  },
  {
   "cell_type": "code",
   "execution_count": 11,
   "id": "8bfba4d1",
   "metadata": {},
   "outputs": [
    {
     "name": "stdout",
     "output_type": "stream",
     "text": [
      "{'color': 'green', 'points': 5, 'start_point': 0}\n"
     ]
    }
   ],
   "source": [
    "print(alien)"
   ]
  },
  {
   "cell_type": "code",
   "execution_count": 12,
   "id": "7f832e2d",
   "metadata": {},
   "outputs": [],
   "source": [
    "#req:add to the current postiton"
   ]
  },
  {
   "cell_type": "code",
   "execution_count": 14,
   "id": "24fa2398",
   "metadata": {},
   "outputs": [],
   "source": [
    "alien['current_position']=10"
   ]
  },
  {
   "cell_type": "code",
   "execution_count": 15,
   "id": "fa1f1802",
   "metadata": {},
   "outputs": [
    {
     "name": "stdout",
     "output_type": "stream",
     "text": [
      "{'color': 'green', 'points': 5, 'start_point': 0, 'current_position': 10}\n"
     ]
    }
   ],
   "source": [
    "print(alien)"
   ]
  },
  {
   "cell_type": "code",
   "execution_count": 16,
   "id": "65744c99",
   "metadata": {},
   "outputs": [],
   "source": [
    "#how to modify values of a particular key"
   ]
  },
  {
   "cell_type": "code",
   "execution_count": 17,
   "id": "f34deab7",
   "metadata": {},
   "outputs": [],
   "source": [
    "#req:change color-->yellow and points -->10\n"
   ]
  },
  {
   "cell_type": "code",
   "execution_count": 18,
   "id": "fedf8573",
   "metadata": {},
   "outputs": [],
   "source": [
    "alien['color']='yellow'"
   ]
  },
  {
   "cell_type": "code",
   "execution_count": 19,
   "id": "2f1b0c1d",
   "metadata": {},
   "outputs": [],
   "source": [
    "alien['points']=10\n",
    "alien['points']=12"
   ]
  },
  {
   "cell_type": "code",
   "execution_count": 20,
   "id": "7d96e9e8",
   "metadata": {},
   "outputs": [
    {
     "name": "stdout",
     "output_type": "stream",
     "text": [
      "{'color': 'yellow', 'points': 12, 'start_point': 0, 'current_position': 10}\n"
     ]
    }
   ],
   "source": [
    "print(alien)"
   ]
  },
  {
   "cell_type": "code",
   "execution_count": 21,
   "id": "88135dbf",
   "metadata": {},
   "outputs": [],
   "source": [
    "#req:create a facebook user account"
   ]
  },
  {
   "cell_type": "code",
   "execution_count": 23,
   "id": "cbf319b1",
   "metadata": {},
   "outputs": [],
   "source": [
    "useraccount = {'username':'SyedFeeraz','firstname':'Feeraz',\n",
    "               'lastname':'syed','Userid_creation_date':'14-09-2021','PSW':'1234'}"
   ]
  },
  {
   "cell_type": "code",
   "execution_count": 24,
   "id": "67975600",
   "metadata": {},
   "outputs": [
    {
     "name": "stdout",
     "output_type": "stream",
     "text": [
      "{'username': 'SyedFeeraz', 'firstname': 'Feeraz', 'lastname': 'syed', 'Userid_creation_date': '14-09-2021', 'PSW': '1234'}\n"
     ]
    }
   ],
   "source": [
    "print(useraccount)"
   ]
  },
  {
   "cell_type": "code",
   "execution_count": 25,
   "id": "5033aa6e",
   "metadata": {},
   "outputs": [],
   "source": [
    "#how to del key value pairs from dictionary"
   ]
  },
  {
   "cell_type": "code",
   "execution_count": 26,
   "id": "4fd7c55a",
   "metadata": {},
   "outputs": [],
   "source": [
    "#reqto del starting point of alien"
   ]
  },
  {
   "cell_type": "code",
   "execution_count": null,
   "id": "acbc0399",
   "metadata": {},
   "outputs": [],
   "source": []
  },
  {
   "cell_type": "code",
   "execution_count": 29,
   "id": "550d7163",
   "metadata": {},
   "outputs": [],
   "source": [
    "del alien['start_point']"
   ]
  },
  {
   "cell_type": "code",
   "execution_count": 30,
   "id": "8151d30c",
   "metadata": {},
   "outputs": [
    {
     "name": "stdout",
     "output_type": "stream",
     "text": [
      "{'color': 'yellow', 'points': 12, 'current_position': 10}\n"
     ]
    }
   ],
   "source": [
    "print(alien)"
   ]
  },
  {
   "cell_type": "code",
   "execution_count": null,
   "id": "d1df8b29",
   "metadata": {},
   "outputs": [],
   "source": [
    "for loop implementation for dictionary"
   ]
  },
  {
   "cell_type": "markdown",
   "id": "84d92d91",
   "metadata": {},
   "source": []
  },
  {
   "cell_type": "code",
   "execution_count": null,
   "id": "53dba458",
   "metadata": {},
   "outputs": [],
   "source": [
    "for tempvar in mainvar:\n",
    "    print(tempvar)"
   ]
  },
  {
   "cell_type": "code",
   "execution_count": null,
   "id": "c4e69d14",
   "metadata": {},
   "outputs": [],
   "source": [
    "#dict for loop implementation\n",
    "\n",
    "for tempvar1, tempvar2 in mainvar.items():\n",
    "    print(tempvar1)\n",
    "    print(tempvar2)"
   ]
  },
  {
   "cell_type": "code",
   "execution_count": null,
   "id": "decd61d3",
   "metadata": {},
   "outputs": [],
   "source": []
  },
  {
   "cell_type": "code",
   "execution_count": 31,
   "id": "8afec91c",
   "metadata": {},
   "outputs": [
    {
     "name": "stdout",
     "output_type": "stream",
     "text": [
      "color\n",
      "yellow\n",
      "points\n",
      "12\n",
      "current_position\n",
      "10\n"
     ]
    }
   ],
   "source": [
    "for k,v in alien.items():\n",
    "    print(k)\n",
    "    print(v)"
   ]
  },
  {
   "cell_type": "code",
   "execution_count": 49,
   "id": "b9bf7435",
   "metadata": {},
   "outputs": [
    {
     "name": "stdout",
     "output_type": "stream",
     "text": [
      "key:username\n",
      "value:SyedFeeraz\n",
      "key:firstname\n",
      "value:Feeraz\n",
      "key:lastname\n",
      "value:syed\n",
      "key:Userid_creation_date\n",
      "value:14-09-2021\n",
      "key:PSW\n",
      "value:1234\n"
     ]
    }
   ],
   "source": [
    "for a,b in useraccount.items():\n",
    "    print(f\"key:{a}\")\n",
    "    print(f\"value:{b}\")\n",
    "  \n"
   ]
  },
  {
   "cell_type": "code",
   "execution_count": 52,
   "id": "93c6a73c",
   "metadata": {},
   "outputs": [
    {
     "name": "stdout",
     "output_type": "stream",
     "text": [
      "key: username\n",
      "value: SyedFeeraz.\n",
      "\n",
      "key: firstname\n",
      "value: Feeraz.\n",
      "\n",
      "key: lastname\n",
      "value: syed.\n",
      "\n",
      "key: Userid_creation_date\n",
      "value: 14-09-2021.\n",
      "\n",
      "key: PSW\n",
      "value: 1234.\n",
      "\n"
     ]
    }
   ],
   "source": [
    "for a , b in useraccount.items():\n",
    "    print(f\"key: {a}\")\n",
    "    print(f\"value: {b}.\\n\")\n"
   ]
  },
  {
   "cell_type": "code",
   "execution_count": null,
   "id": "c1d88be5",
   "metadata": {},
   "outputs": [],
   "source": []
  },
  {
   "cell_type": "code",
   "execution_count": 35,
   "id": "b94bb112",
   "metadata": {},
   "outputs": [],
   "source": [
    "#req want only keys from above"
   ]
  },
  {
   "cell_type": "code",
   "execution_count": 38,
   "id": "0010e29b",
   "metadata": {},
   "outputs": [
    {
     "name": "stdout",
     "output_type": "stream",
     "text": [
      "key: username\n",
      "key: firstname\n",
      "key: lastname\n",
      "key: Userid_creation_date\n",
      "key: PSW\n"
     ]
    }
   ],
   "source": [
    "for a in useraccount.keys():\n",
    "    print(f\"key: {a}\")"
   ]
  },
  {
   "cell_type": "code",
   "execution_count": 59,
   "id": "86e668cc",
   "metadata": {},
   "outputs": [
    {
     "name": "stdout",
     "output_type": "stream",
     "text": [
      "value: SyedFeeraz\n",
      "value: Feeraz\n",
      "value: syed\n",
      "value: 14-09-2021\n",
      "value: 1234\n"
     ]
    }
   ],
   "source": [
    "for b in useraccount.values():\n",
    "    print(f\"value: {b}\")"
   ]
  },
  {
   "cell_type": "code",
   "execution_count": 39,
   "id": "e92fdd46",
   "metadata": {},
   "outputs": [],
   "source": [
    "#req want only values from above"
   ]
  },
  {
   "cell_type": "code",
   "execution_count": 60,
   "id": "b918bc2f",
   "metadata": {},
   "outputs": [
    {
     "name": "stdout",
     "output_type": "stream",
     "text": [
      "key: username\n",
      "value:SyedFeeraz.\n",
      "\n",
      "key: firstname\n",
      "value:Feeraz.\n",
      "\n",
      "key: lastname\n",
      "value:syed.\n",
      "\n",
      "key: Userid_creation_date\n",
      "value:14-09-2021.\n",
      "\n",
      "key: PSW\n",
      "value:1234.\n",
      "\n"
     ]
    }
   ],
   "source": [
    "for a,b in useraccount.items():\n",
    "    print(f\"key: {a}\")\n",
    "    print(f\"value:{b}.\\n\")"
   ]
  },
  {
   "cell_type": "code",
   "execution_count": 62,
   "id": "d737dfd3",
   "metadata": {},
   "outputs": [
    {
     "name": "stdout",
     "output_type": "stream",
     "text": [
      "color\n",
      "yellow\n",
      "points\n",
      "12\n",
      "current_position\n",
      "10\n"
     ]
    }
   ],
   "source": [
    "for k,v in alien.items():\n",
    "    print(k)\n",
    "    print(v)"
   ]
  },
  {
   "cell_type": "code",
   "execution_count": 63,
   "id": "bbc2cd5a",
   "metadata": {},
   "outputs": [],
   "source": [
    "#END of Day-08 Class!"
   ]
  },
  {
   "cell_type": "code",
   "execution_count": null,
   "id": "63ad7519",
   "metadata": {},
   "outputs": [],
   "source": []
  }
 ],
 "metadata": {
  "kernelspec": {
   "display_name": "Python 3",
   "language": "python",
   "name": "python3"
  },
  "language_info": {
   "codemirror_mode": {
    "name": "ipython",
    "version": 3
   },
   "file_extension": ".py",
   "mimetype": "text/x-python",
   "name": "python",
   "nbconvert_exporter": "python",
   "pygments_lexer": "ipython3",
   "version": "3.8.8"
  }
 },
 "nbformat": 4,
 "nbformat_minor": 5
}

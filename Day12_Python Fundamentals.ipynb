{
 "cells": [
  {
   "cell_type": "code",
   "execution_count": null,
   "id": "7e4a3354",
   "metadata": {},
   "outputs": [],
   "source": [
    "continuation of python classes..."
   ]
  },
  {
   "cell_type": "code",
   "execution_count": null,
   "id": "4415eb40",
   "metadata": {},
   "outputs": [],
   "source": [
    "Introduction to constructors:**\n",
    "    # It is called as a special method or a magical method\n",
    "    #It is used to initialise the attributes \n",
    "    "
   ]
  },
  {
   "cell_type": "code",
   "execution_count": null,
   "id": "a707b5c7",
   "metadata": {},
   "outputs": [],
   "source": [
    "HOW TO define Constructor?\n",
    "def_init_()\n",
    "\n"
   ]
  },
  {
   "cell_type": "code",
   "execution_count": null,
   "id": "9db6aa50",
   "metadata": {},
   "outputs": [],
   "source": [
    "#create a dog class with the below methods :\n",
    "#1.jump\n",
    "2. rollover\n",
    "3.eat\n",
    "4.sleep\n",
    "5.details"
   ]
  },
  {
   "cell_type": "code",
   "execution_count": 95,
   "id": "62e6fc87",
   "metadata": {},
   "outputs": [],
   "source": [
    "class Dog:\n",
    "    \"\"\"creating a dog class\"\"\"\n",
    "    def __init__(self,name,age):\n",
    "        self.name=name\n",
    "        self.age = age\n",
    "    def jump(self):\n",
    "         print(f\"{self.name} is jumping\")     \n",
    "    def rollover(self):\n",
    "        print(f\"{self.name} is rolling\")\n",
    "    def eat(self):\n",
    "        print(f\"{self.name} is eating\")\n",
    "    def sleep(self):\n",
    "        print(f\"{self.name} is sleeping\")\n",
    "    def details(self):\n",
    "        print(f\"My dog name is {self.name} and I am creating this for Talking cat App and it's age is {self.age} years old\")\n",
    "        "
   ]
  },
  {
   "cell_type": "code",
   "execution_count": 96,
   "id": "a446cfad",
   "metadata": {},
   "outputs": [],
   "source": [
    "test = Dog('rex',2)"
   ]
  },
  {
   "cell_type": "code",
   "execution_count": 100,
   "id": "d15ccd01",
   "metadata": {},
   "outputs": [
    {
     "name": "stdout",
     "output_type": "stream",
     "text": [
      "rex is jumping\n",
      "rex is rolling\n",
      "rex is eating\n",
      "rex is sleeping\n",
      "My dog name is rex and I am creating this for Talking cat App and it's age is 2 years old\n"
     ]
    }
   ],
   "source": [
    "test.jump()\n",
    "test.rollover()\n",
    "test.eat()\n",
    "test.sleep()\n",
    "test.details()\n"
   ]
  },
  {
   "cell_type": "code",
   "execution_count": 62,
   "id": "123e87fe",
   "metadata": {},
   "outputs": [],
   "source": [
    "#END of the class 12 ****"
   ]
  },
  {
   "cell_type": "code",
   "execution_count": null,
   "id": "13dfb477",
   "metadata": {},
   "outputs": [],
   "source": []
  },
  {
   "cell_type": "code",
   "execution_count": null,
   "id": "c9b54af8",
   "metadata": {},
   "outputs": [],
   "source": [
    " "
   ]
  },
  {
   "cell_type": "code",
   "execution_count": null,
   "id": "bf72f121",
   "metadata": {},
   "outputs": [],
   "source": [
    "\n"
   ]
  },
  {
   "cell_type": "code",
   "execution_count": null,
   "id": "bbea513b",
   "metadata": {},
   "outputs": [],
   "source": []
  },
  {
   "cell_type": "code",
   "execution_count": null,
   "id": "9a269978",
   "metadata": {},
   "outputs": [],
   "source": []
  },
  {
   "cell_type": "code",
   "execution_count": null,
   "id": "d5de590f",
   "metadata": {},
   "outputs": [],
   "source": []
  }
 ],
 "metadata": {
  "kernelspec": {
   "display_name": "Python 3",
   "language": "python",
   "name": "python3"
  },
  "language_info": {
   "codemirror_mode": {
    "name": "ipython",
    "version": 3
   },
   "file_extension": ".py",
   "mimetype": "text/x-python",
   "name": "python",
   "nbconvert_exporter": "python",
   "pygments_lexer": "ipython3",
   "version": "3.8.8"
  }
 },
 "nbformat": 4,
 "nbformat_minor": 5
}

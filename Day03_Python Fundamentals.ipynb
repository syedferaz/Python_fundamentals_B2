{
 "cells": [
  {
   "cell_type": "code",
   "execution_count": null,
   "id": "98af99f5",
   "metadata": {},
   "outputs": [],
   "source": [
    "Methods in Python :\n",
    "    \n",
    "    type(Variablename) => Gives us the data type of the Variable\n",
    "    Variablename.title() => Gives us the First Characters as Upper Case\n",
    "    Variablename.upper()=> Gives us the all charates into Capital\n",
    "    Variablename.lower()=> Gives us the all charaters into lower\n",
    "    Variablename.lstrip() => Left spaces are removed\n",
    "    Variablename.rstrip()=> Right spaces are removed\n",
    "    Variablename.strip()=> only left and Right spaces are removed\n",
    "    \n",
    "    *As unnecessary code should not occupy spaces."
   ]
  },
  {
   "cell_type": "code",
   "execution_count": 3,
   "id": "6fbc8c67",
   "metadata": {},
   "outputs": [],
   "source": [
    "fullname = 'feeraz syed'"
   ]
  },
  {
   "cell_type": "code",
   "execution_count": 4,
   "id": "68d210f2",
   "metadata": {},
   "outputs": [
    {
     "data": {
      "text/plain": [
       "str"
      ]
     },
     "execution_count": 4,
     "metadata": {},
     "output_type": "execute_result"
    }
   ],
   "source": [
    "type(fullname)"
   ]
  },
  {
   "cell_type": "code",
   "execution_count": 5,
   "id": "715f1ac0",
   "metadata": {},
   "outputs": [
    {
     "name": "stdout",
     "output_type": "stream",
     "text": [
      "Feeraz Syed\n"
     ]
    }
   ],
   "source": [
    "print(fullname.title())"
   ]
  },
  {
   "cell_type": "code",
   "execution_count": 7,
   "id": "60da8253",
   "metadata": {},
   "outputs": [
    {
     "name": "stdout",
     "output_type": "stream",
     "text": [
      "FEERAZ SYED\n"
     ]
    }
   ],
   "source": [
    "print(fullname.upper())"
   ]
  },
  {
   "cell_type": "code",
   "execution_count": 8,
   "id": "dca7bf49",
   "metadata": {},
   "outputs": [
    {
     "name": "stdout",
     "output_type": "stream",
     "text": [
      "feeraz syed\n"
     ]
    }
   ],
   "source": [
    "print(fullname.lower())"
   ]
  },
  {
   "cell_type": "code",
   "execution_count": 10,
   "id": "d1a9d133",
   "metadata": {},
   "outputs": [
    {
     "name": "stdout",
     "output_type": "stream",
     "text": [
      "feeraz syed\n"
     ]
    }
   ],
   "source": [
    "print(fullname.strip())"
   ]
  },
  {
   "cell_type": "code",
   "execution_count": 11,
   "id": "9c25f2a3",
   "metadata": {},
   "outputs": [],
   "source": [
    "fullname1='    feeraz syed'"
   ]
  },
  {
   "cell_type": "code",
   "execution_count": 14,
   "id": "8776bdde",
   "metadata": {},
   "outputs": [
    {
     "name": "stdout",
     "output_type": "stream",
     "text": [
      "    feeraz syed\n"
     ]
    }
   ],
   "source": [
    "print(fullname1) #without using lstrip() and giving spaces in left side"
   ]
  },
  {
   "cell_type": "code",
   "execution_count": 15,
   "id": "6158d805",
   "metadata": {},
   "outputs": [
    {
     "name": "stdout",
     "output_type": "stream",
     "text": [
      "feeraz syed\n"
     ]
    }
   ],
   "source": [
    "print(fullname1.lstrip())"
   ]
  },
  {
   "cell_type": "code",
   "execution_count": 16,
   "id": "ad6c92bc",
   "metadata": {},
   "outputs": [],
   "source": [
    "fullname2='feeraz syed                     '"
   ]
  },
  {
   "cell_type": "code",
   "execution_count": 17,
   "id": "aa8f68c7",
   "metadata": {},
   "outputs": [
    {
     "name": "stdout",
     "output_type": "stream",
     "text": [
      "    feeraz syed\n"
     ]
    }
   ],
   "source": [
    "print(fullname2) #without using rstrip() method and giving spaces in right side"
   ]
  },
  {
   "cell_type": "code",
   "execution_count": 18,
   "id": "fdbfea47",
   "metadata": {},
   "outputs": [
    {
     "name": "stdout",
     "output_type": "stream",
     "text": [
      "    feeraz syed\n"
     ]
    }
   ],
   "source": [
    "print(fullname2.rstrip())"
   ]
  },
  {
   "cell_type": "code",
   "execution_count": 19,
   "id": "a7c562c7",
   "metadata": {},
   "outputs": [],
   "source": [
    "fullname3='                 feeraz syed                  '"
   ]
  },
  {
   "cell_type": "code",
   "execution_count": 20,
   "id": "d1652577",
   "metadata": {},
   "outputs": [
    {
     "name": "stdout",
     "output_type": "stream",
     "text": [
      "                 feeraz syed                  \n"
     ]
    }
   ],
   "source": [
    "print(fullname3) #without using strip() methodand giving spaces in right side"
   ]
  },
  {
   "cell_type": "code",
   "execution_count": 21,
   "id": "7a9cdd1b",
   "metadata": {},
   "outputs": [
    {
     "name": "stdout",
     "output_type": "stream",
     "text": [
      "feeraz syed\n"
     ]
    }
   ],
   "source": [
    "print(fullname3.strip())"
   ]
  },
  {
   "cell_type": "code",
   "execution_count": null,
   "id": "4ca40dd0",
   "metadata": {},
   "outputs": [],
   "source": []
  },
  {
   "cell_type": "code",
   "execution_count": 22,
   "id": "181b9000",
   "metadata": {},
   "outputs": [],
   "source": [
    "#Adding white spaces to stings using \\n (New line delimiter) and \\t (tab delimiter) and Introduction to fstrings"
   ]
  },
  {
   "cell_type": "code",
   "execution_count": 23,
   "id": "9e9b005e",
   "metadata": {},
   "outputs": [],
   "source": [
    "#fstrings syntax : f:\"custom words {place holder1},{place holder2},{place hplder3}.........{place holder n}\""
   ]
  },
  {
   "cell_type": "code",
   "execution_count": 24,
   "id": "14bf7e98",
   "metadata": {},
   "outputs": [],
   "source": [
    "#req : Want to concatenate strings"
   ]
  },
  {
   "cell_type": "code",
   "execution_count": 30,
   "id": "0925fcbf",
   "metadata": {},
   "outputs": [],
   "source": [
    "firstname = 'syed'\n"
   ]
  },
  {
   "cell_type": "code",
   "execution_count": 31,
   "id": "8a6e116a",
   "metadata": {},
   "outputs": [],
   "source": [
    "lastname='feeraz'"
   ]
  },
  {
   "cell_type": "code",
   "execution_count": 33,
   "id": "1bc44c3e",
   "metadata": {},
   "outputs": [],
   "source": [
    "fullname=f\"{firstname}{lastname}\""
   ]
  },
  {
   "cell_type": "code",
   "execution_count": 34,
   "id": "a656b268",
   "metadata": {},
   "outputs": [
    {
     "name": "stdout",
     "output_type": "stream",
     "text": [
      "syedfeeraz\n"
     ]
    }
   ],
   "source": [
    "print(fullname)"
   ]
  },
  {
   "cell_type": "code",
   "execution_count": 35,
   "id": "3a1b6023",
   "metadata": {},
   "outputs": [],
   "source": [
    "#req : to appreciate "
   ]
  },
  {
   "cell_type": "code",
   "execution_count": 36,
   "id": "6f78d6fd",
   "metadata": {},
   "outputs": [],
   "source": [
    "message=f\"keep up the Good work,{fullname.title()}\""
   ]
  },
  {
   "cell_type": "code",
   "execution_count": 37,
   "id": "54930a5d",
   "metadata": {},
   "outputs": [
    {
     "name": "stdout",
     "output_type": "stream",
     "text": [
      "keep up the Good work,Syedfeeraz\n"
     ]
    }
   ],
   "source": [
    "print(message)"
   ]
  },
  {
   "cell_type": "code",
   "execution_count": 38,
   "id": "92067d97",
   "metadata": {},
   "outputs": [],
   "source": [
    "#using the \\n: new line delimitter"
   ]
  },
  {
   "cell_type": "code",
   "execution_count": 39,
   "id": "e491544a",
   "metadata": {},
   "outputs": [],
   "source": [
    "#req: survey to choose for programming language"
   ]
  },
  {
   "cell_type": "code",
   "execution_count": 40,
   "id": "bb8d1d7d",
   "metadata": {},
   "outputs": [
    {
     "name": "stdout",
     "output_type": "stream",
     "text": [
      "favourite - Language : c,java,Python,c#,Pascal\n"
     ]
    }
   ],
   "source": [
    "print(\"favourite - Language : c,java,Python,c#,Pascal\")#without using the \\n => new line delimitter"
   ]
  },
  {
   "cell_type": "code",
   "execution_count": 42,
   "id": "6ee3d558",
   "metadata": {},
   "outputs": [
    {
     "name": "stdout",
     "output_type": "stream",
     "text": [
      "favourite-language :\n",
      "c\n",
      "java\n",
      "python\n",
      "c#\n",
      "Pascal\n"
     ]
    }
   ],
   "source": [
    "print(\"favourite-language :\\nc\\njava\\npython\\nc#\\nPascal\")#with using the \\n => new line delimitter"
   ]
  },
  {
   "cell_type": "code",
   "execution_count": 43,
   "id": "53145365",
   "metadata": {},
   "outputs": [],
   "source": [
    "#with using the \\t =>tab space delimitter"
   ]
  },
  {
   "cell_type": "code",
   "execution_count": 44,
   "id": "ee80e2c1",
   "metadata": {},
   "outputs": [
    {
     "name": "stdout",
     "output_type": "stream",
     "text": [
      "favourite-language :\n",
      "\tc\n",
      "\tjava\n",
      "\tpython\n",
      "\tc#\n",
      "\tPascal\n"
     ]
    }
   ],
   "source": [
    "print(\"favourite-language :\\n\\tc\\n\\tjava\\n\\tpython\\n\\tc#\\n\\tPascal\")"
   ]
  },
  {
   "cell_type": "code",
   "execution_count": 57,
   "id": "eb585235",
   "metadata": {},
   "outputs": [],
   "source": [
    "message=f\"print(******We reached to the END of the todays Asignment******,{fullname.title()},{fullname.upper().strip()})\""
   ]
  },
  {
   "cell_type": "code",
   "execution_count": 58,
   "id": "31657e0f",
   "metadata": {},
   "outputs": [
    {
     "name": "stdout",
     "output_type": "stream",
     "text": [
      "print(******We reached to the END of the todays Asignment******,Syedfeeraz,SYEDFEERAZ)\n"
     ]
    }
   ],
   "source": [
    "print(message)"
   ]
  }
 ],
 "metadata": {
  "kernelspec": {
   "display_name": "Python 3",
   "language": "python",
   "name": "python3"
  },
  "language_info": {
   "codemirror_mode": {
    "name": "ipython",
    "version": 3
   },
   "file_extension": ".py",
   "mimetype": "text/x-python",
   "name": "python",
   "nbconvert_exporter": "python",
   "pygments_lexer": "ipython3",
   "version": "3.8.8"
  }
 },
 "nbformat": 4,
 "nbformat_minor": 5
}

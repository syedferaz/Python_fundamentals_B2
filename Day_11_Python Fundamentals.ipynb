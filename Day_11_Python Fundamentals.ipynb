{
 "cells": [
  {
   "cell_type": "code",
   "execution_count": 1,
   "id": "7a6d8128",
   "metadata": {},
   "outputs": [],
   "source": [
    "#Introduction to Python - Classes"
   ]
  },
  {
   "cell_type": "code",
   "execution_count": null,
   "id": "958b77cc",
   "metadata": {},
   "outputs": [],
   "source": [
    "class ==> it is a high level blue print of the program. It is defined by using the keyword called class\n",
    "\n",
    "For declaring a classname we will be using the keyword as \"class\"\n",
    "\n",
    "Method=> A funmction writen inside a class is termed as method\n",
    "\n",
    "Attribute = > A variable written inside the class as an Attribute\n",
    "\n",
    "Self=> It is a temp placeholder for the objects \n",
    "\n",
    "Objects/ Instance=> It is an entry / aCCess point to the class methods\n",
    "\n"
   ]
  },
  {
   "cell_type": "code",
   "execution_count": null,
   "id": "8fd0272b",
   "metadata": {},
   "outputs": [],
   "source": [
    "#req : create a classname caled Greet : And, it needs to have the below methods.\n",
    "\n",
    "# 1. Create name => It neds to accept input like username and age from user.\n",
    "\n",
    "#2.  display name => This methods need to display name of the user\n",
    "\n",
    "# 3. greet user = > this method needs to greet the user."
   ]
  },
  {
   "cell_type": "code",
   "execution_count": 24,
   "id": "73fb65df",
   "metadata": {},
   "outputs": [],
   "source": [
    "class Greet: # this is a class name\n",
    "    \"\"\"creating a Greet class\"\"\"#this is a doc string\n",
    "    def createname(self,username,age):#Parameter method/ methodname\n",
    "        self.username = username #Attributename\n",
    "        self.age=age\n",
    "    def displayname(self):#methodname\n",
    "        print(self.username)\n",
    "    def greetuser(self):\n",
    "        print(f\"Hi,GoodEvening.;{self.username},and Hoping you are in {self.age}'s'\")"
   ]
  },
  {
   "cell_type": "code",
   "execution_count": 33,
   "id": "933e0673",
   "metadata": {},
   "outputs": [
    {
     "name": "stdout",
     "output_type": "stream",
     "text": [
      "syed\n"
     ]
    }
   ],
   "source": [
    "test=Greet()\n",
    "test.createname('syed',20)\n",
    "test.displayname()#displaying the user"
   ]
  },
  {
   "cell_type": "code",
   "execution_count": 34,
   "id": "cb731a45",
   "metadata": {},
   "outputs": [
    {
     "name": "stdout",
     "output_type": "stream",
     "text": [
      "Hi,GoodEvening.;syed,and Hoping you are in 20's'\n"
     ]
    }
   ],
   "source": [
    "test.greetuser()"
   ]
  },
  {
   "cell_type": "code",
   "execution_count": 35,
   "id": "bee7f3b2",
   "metadata": {},
   "outputs": [],
   "source": [
    "#OOPS => Object Oriented Programming...!"
   ]
  },
  {
   "cell_type": "code",
   "execution_count": 36,
   "id": "1ff38e4c",
   "metadata": {},
   "outputs": [
    {
     "name": "stdout",
     "output_type": "stream",
     "text": [
      "Haashim\n"
     ]
    }
   ],
   "source": [
    "x= Greet()\n",
    "x.createname('Haashim',15)\n",
    "x.displayname()"
   ]
  },
  {
   "cell_type": "code",
   "execution_count": 37,
   "id": "789fe597",
   "metadata": {},
   "outputs": [],
   "source": [
    "#END of the Day 11 Class#"
   ]
  },
  {
   "cell_type": "code",
   "execution_count": null,
   "id": "d050519a",
   "metadata": {},
   "outputs": [],
   "source": []
  }
 ],
 "metadata": {
  "kernelspec": {
   "display_name": "Python 3",
   "language": "python",
   "name": "python3"
  },
  "language_info": {
   "codemirror_mode": {
    "name": "ipython",
    "version": 3
   },
   "file_extension": ".py",
   "mimetype": "text/x-python",
   "name": "python",
   "nbconvert_exporter": "python",
   "pygments_lexer": "ipython3",
   "version": "3.8.8"
  }
 },
 "nbformat": 4,
 "nbformat_minor": 5
}

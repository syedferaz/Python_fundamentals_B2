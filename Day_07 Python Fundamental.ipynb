{
 "cells": [
  {
   "cell_type": "code",
   "execution_count": 1,
   "id": "c59bea82",
   "metadata": {},
   "outputs": [],
   "source": [
    "#req to Validate the Age"
   ]
  },
  {
   "cell_type": "code",
   "execution_count": 3,
   "id": "d3a573c8",
   "metadata": {},
   "outputs": [
    {
     "ename": "NameError",
     "evalue": "name 'age' is not defined",
     "output_type": "error",
     "traceback": [
      "\u001b[1;31m---------------------------------------------------------------------------\u001b[0m",
      "\u001b[1;31mNameError\u001b[0m                                 Traceback (most recent call last)",
      "\u001b[1;32m<ipython-input-3-7da0d923064a>\u001b[0m in \u001b[0;36m<module>\u001b[1;34m\u001b[0m\n\u001b[1;32m----> 1\u001b[1;33m \u001b[0mage\u001b[0m\u001b[1;33m>\u001b[0m\u001b[1;36m18\u001b[0m\u001b[1;33m\u001b[0m\u001b[1;33m\u001b[0m\u001b[0m\n\u001b[0m",
      "\u001b[1;31mNameError\u001b[0m: name 'age' is not defined"
     ]
    }
   ],
   "source": [
    "age>18"
   ]
  },
  {
   "cell_type": "code",
   "execution_count": 4,
   "id": "dcceb263",
   "metadata": {},
   "outputs": [],
   "source": [
    "#type casting of the datatypes -> Converting the data from one type to another type"
   ]
  },
  {
   "cell_type": "code",
   "execution_count": 5,
   "id": "cdc63fe0",
   "metadata": {},
   "outputs": [
    {
     "name": "stdout",
     "output_type": "stream",
     "text": [
      "eNTER AGE18\n"
     ]
    }
   ],
   "source": [
    "age=input(\"eNTER AGE\")"
   ]
  },
  {
   "cell_type": "code",
   "execution_count": 6,
   "id": "d0bc77a6",
   "metadata": {},
   "outputs": [
    {
     "data": {
      "text/plain": [
       "False"
      ]
     },
     "execution_count": 6,
     "metadata": {},
     "output_type": "execute_result"
    }
   ],
   "source": [
    "age=int(age)\n",
    "age>18"
   ]
  },
  {
   "cell_type": "code",
   "execution_count": 7,
   "id": "e5b35e66",
   "metadata": {},
   "outputs": [
    {
     "data": {
      "text/plain": [
       "int"
      ]
     },
     "execution_count": 7,
     "metadata": {},
     "output_type": "execute_result"
    }
   ],
   "source": [
    "type(age)"
   ]
  },
  {
   "cell_type": "code",
   "execution_count": 8,
   "id": "bf63b596",
   "metadata": {},
   "outputs": [],
   "source": [
    "#Building a simple voting Application"
   ]
  },
  {
   "cell_type": "code",
   "execution_count": 39,
   "id": "bf82e2a6",
   "metadata": {},
   "outputs": [
    {
     "name": "stdout",
     "output_type": "stream",
     "text": [
      "Enter the Voter age23\n",
      "Eligible for Vote\n"
     ]
    }
   ],
   "source": [
    "age=input(\"Enter the Voter age\")\n",
    "age=int(age)\n",
    "if age>=18:\n",
    "    print(\"Eligible for Vote\")\n",
    "else:\n",
    "    print(\"Not Eligible for voting\")"
   ]
  },
  {
   "cell_type": "code",
   "execution_count": 11,
   "id": "a9322d0c",
   "metadata": {},
   "outputs": [],
   "source": []
  },
  {
   "cell_type": "code",
   "execution_count": null,
   "id": "506a8889",
   "metadata": {},
   "outputs": [],
   "source": []
  }
 ],
 "metadata": {
  "kernelspec": {
   "display_name": "Python 3",
   "language": "python",
   "name": "python3"
  },
  "language_info": {
   "codemirror_mode": {
    "name": "ipython",
    "version": 3
   },
   "file_extension": ".py",
   "mimetype": "text/x-python",
   "name": "python",
   "nbconvert_exporter": "python",
   "pygments_lexer": "ipython3",
   "version": "3.8.8"
  }
 },
 "nbformat": 4,
 "nbformat_minor": 5
}

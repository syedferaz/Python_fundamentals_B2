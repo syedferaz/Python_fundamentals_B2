{
 "cells": [
  {
   "cell_type": "code",
   "execution_count": 3,
   "id": "4e605bfb",
   "metadata": {},
   "outputs": [],
   "source": [
    "#Introduction to list DataType :\n",
    "# def: A list is a collection of items in a particular Order(i.e indexed -> 0,1,2,.....)\n",
    " #Classification : It is classified as a mutable datatype\n",
    "#How to declare a list => using [] -> Square brackets"
   ]
  },
  {
   "cell_type": "code",
   "execution_count": 4,
   "id": "eb56c3b2",
   "metadata": {},
   "outputs": [],
   "source": [
    "students =['syed','feeraz','rafi']"
   ]
  },
  {
   "cell_type": "code",
   "execution_count": 5,
   "id": "1aed9e2c",
   "metadata": {},
   "outputs": [
    {
     "name": "stdout",
     "output_type": "stream",
     "text": [
      "['syed', 'feeraz', 'rafi']\n"
     ]
    }
   ],
   "source": [
    "print(students)"
   ]
  },
  {
   "cell_type": "code",
   "execution_count": 6,
   "id": "3f7c78d0",
   "metadata": {},
   "outputs": [
    {
     "name": "stdout",
     "output_type": "stream",
     "text": [
      "feeraz\n"
     ]
    }
   ],
   "source": [
    "print(students[1])#to know the index 1 holding data\n"
   ]
  },
  {
   "cell_type": "code",
   "execution_count": 8,
   "id": "a201c9bf",
   "metadata": {},
   "outputs": [
    {
     "data": {
      "text/plain": [
       "list"
      ]
     },
     "execution_count": 8,
     "metadata": {},
     "output_type": "execute_result"
    }
   ],
   "source": [
    "type(students)#to know the type of datatype"
   ]
  },
  {
   "cell_type": "code",
   "execution_count": 9,
   "id": "e635b971",
   "metadata": {},
   "outputs": [
    {
     "name": "stdout",
     "output_type": "stream",
     "text": [
      "Feeraz\n"
     ]
    }
   ],
   "source": [
    "print(students[1].title())# first character in capital"
   ]
  },
  {
   "cell_type": "code",
   "execution_count": 10,
   "id": "2fd65a17",
   "metadata": {},
   "outputs": [],
   "source": [
    "# adding/inserting the data  in the list => Append and Insert"
   ]
  },
  {
   "cell_type": "code",
   "execution_count": 11,
   "id": "9fa2978c",
   "metadata": {},
   "outputs": [],
   "source": [
    "students.append('abc')"
   ]
  },
  {
   "cell_type": "code",
   "execution_count": 12,
   "id": "5335a0b9",
   "metadata": {},
   "outputs": [
    {
     "name": "stdout",
     "output_type": "stream",
     "text": [
      "['syed', 'feeraz', 'rafi', 'abc']\n"
     ]
    }
   ],
   "source": [
    "print(students)"
   ]
  },
  {
   "cell_type": "code",
   "execution_count": 13,
   "id": "40fa1c99",
   "metadata": {},
   "outputs": [],
   "source": [
    "students.insert(2,'def')"
   ]
  },
  {
   "cell_type": "code",
   "execution_count": 14,
   "id": "86938813",
   "metadata": {},
   "outputs": [
    {
     "name": "stdout",
     "output_type": "stream",
     "text": [
      "['syed', 'feeraz', 'def', 'rafi', 'abc']\n"
     ]
    }
   ],
   "source": [
    "print(students)"
   ]
  },
  {
   "cell_type": "code",
   "execution_count": null,
   "id": "1dd7ee7b",
   "metadata": {},
   "outputs": [],
   "source": [
    "# interview Question \n",
    "difference b/w append and insert\n",
    "-> append adds at end index position of list but\n",
    "->insert at any position in the list"
   ]
  },
  {
   "cell_type": "code",
   "execution_count": 15,
   "id": "0897a7a6",
   "metadata": {},
   "outputs": [],
   "source": [
    "#req to modify the syed to sd"
   ]
  },
  {
   "cell_type": "code",
   "execution_count": 16,
   "id": "5aa09a44",
   "metadata": {},
   "outputs": [],
   "source": [
    "students[0]='sd'"
   ]
  },
  {
   "cell_type": "code",
   "execution_count": 17,
   "id": "a69a5330",
   "metadata": {},
   "outputs": [
    {
     "name": "stdout",
     "output_type": "stream",
     "text": [
      "['sd', 'feeraz', 'def', 'rafi', 'abc']\n"
     ]
    }
   ],
   "source": [
    "print(students)"
   ]
  },
  {
   "cell_type": "code",
   "execution_count": 18,
   "id": "1842e966",
   "metadata": {},
   "outputs": [],
   "source": [
    "#req to delete def from the list"
   ]
  },
  {
   "cell_type": "code",
   "execution_count": 20,
   "id": "525346e2",
   "metadata": {},
   "outputs": [],
   "source": [
    "del students[2]"
   ]
  },
  {
   "cell_type": "code",
   "execution_count": 21,
   "id": "8530beb3",
   "metadata": {},
   "outputs": [
    {
     "name": "stdout",
     "output_type": "stream",
     "text": [
      "['sd', 'feeraz', 'rafi', 'abc']\n"
     ]
    }
   ],
   "source": [
    "print(students)"
   ]
  },
  {
   "cell_type": "code",
   "execution_count": 23,
   "id": "2f11855c",
   "metadata": {},
   "outputs": [
    {
     "name": "stdout",
     "output_type": "stream",
     "text": [
      "Feeraz\n"
     ]
    }
   ],
   "source": [
    "print(students[1].title())"
   ]
  },
  {
   "cell_type": "code",
   "execution_count": 28,
   "id": "8984ec4c",
   "metadata": {},
   "outputs": [],
   "source": [
    "message=f\"End of today's assignement, {students[1].upper()}\""
   ]
  },
  {
   "cell_type": "code",
   "execution_count": 29,
   "id": "12fd89fc",
   "metadata": {},
   "outputs": [
    {
     "name": "stdout",
     "output_type": "stream",
     "text": [
      "End of today's assignement, FEERAZ\n"
     ]
    }
   ],
   "source": [
    "print(message)"
   ]
  },
  {
   "cell_type": "code",
   "execution_count": null,
   "id": "5003b75b",
   "metadata": {},
   "outputs": [],
   "source": []
  }
 ],
 "metadata": {
  "kernelspec": {
   "display_name": "Python 3",
   "language": "python",
   "name": "python3"
  },
  "language_info": {
   "codemirror_mode": {
    "name": "ipython",
    "version": 3
   },
   "file_extension": ".py",
   "mimetype": "text/x-python",
   "name": "python",
   "nbconvert_exporter": "python",
   "pygments_lexer": "ipython3",
   "version": "3.8.8"
  }
 },
 "nbformat": 4,
 "nbformat_minor": 5
}

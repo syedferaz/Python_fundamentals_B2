{
 "cells": [
  {
   "cell_type": "code",
   "execution_count": 1,
   "id": "aa7985af",
   "metadata": {},
   "outputs": [],
   "source": [
    " #Introduction to looping Statements"
   ]
  },
  {
   "cell_type": "code",
   "execution_count": 2,
   "id": "a2e5598e",
   "metadata": {},
   "outputs": [],
   "source": [
    "students=['a','b','c','d']"
   ]
  },
  {
   "cell_type": "code",
   "execution_count": 4,
   "id": "c7cbf4b8",
   "metadata": {},
   "outputs": [
    {
     "data": {
      "text/plain": [
       "list"
      ]
     },
     "execution_count": 4,
     "metadata": {},
     "output_type": "execute_result"
    }
   ],
   "source": [
    "type(students)"
   ]
  },
  {
   "cell_type": "code",
   "execution_count": 5,
   "id": "2fdd1281",
   "metadata": {},
   "outputs": [],
   "source": [
    "#General synatx of a list datatype"
   ]
  },
  {
   "cell_type": "code",
   "execution_count": 6,
   "id": "81db379d",
   "metadata": {},
   "outputs": [],
   "source": [
    "#for tempvaraible in mainvariable:"
   ]
  },
  {
   "cell_type": "code",
   "execution_count": 36,
   "id": "3786023a",
   "metadata": {},
   "outputs": [
    {
     "name": "stdout",
     "output_type": "stream",
     "text": [
      "Available students in class is,A.\n",
      "\n",
      "Thank you!.\n",
      "\n",
      "Available students in class is,B.\n",
      "\n",
      "Thank you!.\n",
      "\n",
      "Available students in class is,C.\n",
      "\n",
      "Thank you!.\n",
      "\n",
      "Available students in class is,D.\n",
      "\n",
      "Thank you!.\n",
      "\n"
     ]
    }
   ],
   "source": [
    "for s in students:\n",
    "    print(f\"Available students in class is,{s.title()}.\\n\")\n",
    "    print(f\"Thank you!.\\n\")"
   ]
  },
  {
   "cell_type": "code",
   "execution_count": null,
   "id": "c621b1c1",
   "metadata": {},
   "outputs": [],
   "source": []
  }
 ],
 "metadata": {
  "kernelspec": {
   "display_name": "Python 3",
   "language": "python",
   "name": "python3"
  },
  "language_info": {
   "codemirror_mode": {
    "name": "ipython",
    "version": 3
   },
   "file_extension": ".py",
   "mimetype": "text/x-python",
   "name": "python",
   "nbconvert_exporter": "python",
   "pygments_lexer": "ipython3",
   "version": "3.8.8"
  }
 },
 "nbformat": 4,
 "nbformat_minor": 5
}
